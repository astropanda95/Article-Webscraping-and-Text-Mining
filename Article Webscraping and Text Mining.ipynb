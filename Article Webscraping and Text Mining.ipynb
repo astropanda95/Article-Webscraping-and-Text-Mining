{
 "cells": [
  {
   "cell_type": "markdown",
   "id": "ca2fbbc0",
   "metadata": {},
   "source": [
    "John Victor Kanaparthy"
   ]
  },
  {
   "cell_type": "code",
   "execution_count": 1,
   "id": "cc4049f0",
   "metadata": {},
   "outputs": [],
   "source": [
    "#Calling relevant libraries\n",
    "from urllib.request import urlopen\n",
    "from selenium import webdriver\n",
    "from bs4 import BeautifulSoup\n",
    "from newspaper import Article\n",
    "import nltk\n",
    "from nltk.tokenize import RegexpTokenizer\n",
    "from nltk.corpus import stopwords"
   ]
  },
  {
   "cell_type": "code",
   "execution_count": 2,
   "id": "9bbc8f83",
   "metadata": {},
   "outputs": [],
   "source": [
    "#Calling the url from theguardian\n",
    "url = \"https://www.theguardian.com/commentisfree/2021/oct/28/economy-recovering-covid-brexit-eu\""
   ]
  },
  {
   "cell_type": "code",
   "execution_count": 3,
   "id": "443dea5b",
   "metadata": {},
   "outputs": [],
   "source": [
    "#Setting up the data retrieval\n",
    "brexit_guardian = Article(url, language=\"en\") "
   ]
  },
  {
   "cell_type": "code",
   "execution_count": 4,
   "id": "62e515a7",
   "metadata": {},
   "outputs": [],
   "source": [
    "#Downloading the article \n",
    "brexit_guardian.download() \n",
    "  \n",
    "#Parsing the article \n",
    "brexit_guardian.parse() \n",
    "  \n",
    "#Performing natural language processing\n",
    "brexit_guardian.nlp()"
   ]
  },
  {
   "cell_type": "code",
   "execution_count": 5,
   "id": "4d5af546",
   "metadata": {},
   "outputs": [
    {
     "name": "stdout",
     "output_type": "stream",
     "text": [
      "Article's Title:\n",
      "Now it's official: Brexit will damage the economy long into the future | Jonathan Portes\n"
     ]
    }
   ],
   "source": [
    "#Getting the title of the article\n",
    "print(\"Article's Title:\") \n",
    "print(brexit_guardian.title) \n",
    " "
   ]
  },
  {
   "cell_type": "code",
   "execution_count": 6,
   "id": "39d6a4b1",
   "metadata": {},
   "outputs": [
    {
     "name": "stdout",
     "output_type": "stream",
     "text": [
      "Article's Text:\n",
      "We’re used to hearing apocalyptic descriptions of the impact of the Covid-19 pandemic on the UK economy: “the largest fall in economic output since 1709”, was the Office for National Statistics’ verdict eight months ago.\n",
      "\n",
      "Yet the Office for Budget Responsibility, in its report on Wednesday’s budget, estimates that the long-term impact of Brexit will be more than twice as great as Covid. It thinks that Brexit will reduce UK productivity, and hence GDP per capita, by 4%, while the impact of Covid on GDP will only be 2%, with a slightly smaller impact on GDP per capita.\n",
      "\n",
      "This shouldn’t be surprising. The fall in output in 2020 was both inevitable and desirable – it was not, in economic terms, that different from an extended holiday. Just like a holiday, we chose to shut down large parts of the economy. The difference was that it was by necessity – to save lives – rather than by choice, but the consequences aren’t that different. The economy shrank, and by a lot.\n",
      "\n",
      "Holidays don’t reduce the productive capacity of the economy. If a factory shuts down for a month, the machines are still there when it reopens. Similarly, when workers return, they still know how to do their jobs. The virus does not destroy factories, roads, buildings or software and, while its human toll has been dreadful, the impact on the size or composition of the working-age population will be relatively small in macroeconomic terms.\n",
      "\n",
      "So the worry was not the huge short-term fall in GDP. It was that temporary closures would do permanent damage to the economy. The biggest risk was that, as in the 1980s, we allowed mass unemployment to become entrenched, or viable businesses to go bust.\n",
      "\n",
      "But, thanks to the furlough scheme and other business support measures, we seem to have avoided that risk in the UK and elsewhere. Indeed, US GDP – boosted by Joe Biden’s stimulus package – has already exceeded its pre-crisis level. The UK is not that far behind, albeit still well below the pre-crisis trend.\n",
      "\n",
      "Indeed, the most obvious short-term economic problem in most advanced economies are now supply bottlenecks and labour market mismatches as economies reopen, leading to rising wages and shortages of some goods. But while this will – as the OBR also says – reduce both growth and, via inflation, real wages, it will mostly be temporary.\n",
      "\n",
      "The OBR isn’t entirely sanguine – it still thinks Covid will permanently push some people out of the labour force, through early retirement or potentially long Covid, and that there will be some lasting hit to productivity. But things could have been a lot worse.\n",
      "\n",
      "By contrast, Brexit is, by its nature, a long-term issue. Just as it took decades for the UK to see the full benefits of EU membership, we’ll still be discussing the economic impacts of Brexit long after I’ve retired.\n",
      "\n",
      "The direction of those impacts isn’t controversial. The principle that increasing barriers to trade and labour mobility between two large trading partners will reduce trade and migration, and that this will, in general, reduce economic welfare on both sides – but especially for the smaller partner – isn’t really at issue. While there was no shortage of politicians who argued that, somehow, new trade barriers would not make much difference, or that trade with our closest and largest single trading partner could easily be substituted with trade with the rest of the world, no credible economic analysis endorsed such claims.\n",
      "\n",
      "Nor is the OBR’s 4% estimate of the impact on the UK economy that different from that of independent economists – we at UK in a Changing Europe put it at just under 6%.\n",
      "\n",
      "But crucially, both those (and other) estimates predated Brexit. So the news here is that the OBR has taken a hard look at the evidence to date on the actual impact of Brexit. Its conclusion, briefly, is: “so far, so bad”. That is, the UK’s trade performance this year is consistent with its original estimates that UK exports and imports would both fall by 15%.\n",
      "\n",
      "Indeed, in some respects, the data so far looks even worse than that – UK exports have already fallen by approximately this much compared to pre-pandemic levels, while advanced economies as a whole have seen trade grow. And, again in common with external analysts, the OBR sees no evidence that trade deals with third countries, or any of the other putative economic benefits of Brexit, will offset this in any meaningful way.\n",
      "\n",
      "No model includes everything. The OBR’s is no exception. It hasn’t accounted for the damage done to education during the pandemic, especially for poorer kids. Here, the government’s failure to fund a serious catch-up programme could leave permanent scars – both economic and social. And, on the other side, a more liberal migration system towards non-European migrants could, in principle, offset some of the damage of Brexit.\n",
      "\n",
      "But so far, it looks as if, from an economic perspective, Covid is for Christmas, while Brexit is for life.\n",
      "n\n"
     ]
    }
   ],
   "source": [
    "#Getting the content of the article from The Guardian\n",
    "print(\"Article's Text:\") \n",
    "print(brexit_guardian.text) \n",
    "print(\"n\") "
   ]
  },
  {
   "cell_type": "code",
   "execution_count": 7,
   "id": "40ddb26b",
   "metadata": {},
   "outputs": [
    {
     "name": "stdout",
     "output_type": "stream",
     "text": [
      "Article's Keywords:\n",
      "['future', 'long', 'portes', 'covid', 'brexit', 'impact', 'obr', 'official', 'reduce', 'trade', 'gdp', 'damage', 'jonathan', 'economy', 'economic', 'uk']\n"
     ]
    }
   ],
   "source": [
    "#Checking for the keywords in the article\n",
    "print(\"Article's Keywords:\") \n",
    "print(brexit_guardian.keywords)"
   ]
  },
  {
   "cell_type": "code",
   "execution_count": 8,
   "id": "9ad0f2fe",
   "metadata": {},
   "outputs": [],
   "source": [
    "#Creating a text file to paste the guardian data\n",
    "guardian_data = open(\"Brexit_TheGuardian.txt\",\"w\")"
   ]
  },
  {
   "cell_type": "code",
   "execution_count": 9,
   "id": "0f8f888a",
   "metadata": {},
   "outputs": [],
   "source": [
    "# Writing the data into the text file\n",
    "guardian_data.writelines(brexit_guardian.text) \n",
    "guardian_data.close() "
   ]
  },
  {
   "cell_type": "code",
   "execution_count": 10,
   "id": "58d6d76b",
   "metadata": {},
   "outputs": [
    {
     "name": "stdout",
     "output_type": "stream",
     "text": [
      "We’re used to hearing apocalyptic descriptions of the impact of the Covid-19 pandemic on the UK economy: “the largest fall in economic output since 1709”, was the Office for National Statistics’ verdict eight months ago.\n",
      "\n",
      "Yet the Office for Budget Responsibility, in its report on Wednesday’s budget, estimates that the long-term impact of Brexit will be more than twice as great as Covid. It thinks that Brexit will reduce UK productivity, and hence GDP per capita, by 4%, while the impact of Covid on GDP will only be 2%, with a slightly smaller impact on GDP per capita.\n",
      "\n",
      "This shouldn’t be surprising. The fall in output in 2020 was both inevitable and desirable – it was not, in economic terms, that different from an extended holiday. Just like a holiday, we chose to shut down large parts of the economy. The difference was that it was by necessity – to save lives – rather than by choice, but the consequences aren’t that different. The economy shrank, and by a lot.\n",
      "\n",
      "Holidays don’t reduce the productive capacity of the economy. If a factory shuts down for a month, the machines are still there when it reopens. Similarly, when workers return, they still know how to do their jobs. The virus does not destroy factories, roads, buildings or software and, while its human toll has been dreadful, the impact on the size or composition of the working-age population will be relatively small in macroeconomic terms.\n",
      "\n",
      "So the worry was not the huge short-term fall in GDP. It was that temporary closures would do permanent damage to the economy. The biggest risk was that, as in the 1980s, we allowed mass unemployment to become entrenched, or viable businesses to go bust.\n",
      "\n",
      "But, thanks to the furlough scheme and other business support measures, we seem to have avoided that risk in the UK and elsewhere. Indeed, US GDP – boosted by Joe Biden’s stimulus package – has already exceeded its pre-crisis level. The UK is not that far behind, albeit still well below the pre-crisis trend.\n",
      "\n",
      "Indeed, the most obvious short-term economic problem in most advanced economies are now supply bottlenecks and labour market mismatches as economies reopen, leading to rising wages and shortages of some goods. But while this will – as the OBR also says – reduce both growth and, via inflation, real wages, it will mostly be temporary.\n",
      "\n",
      "The OBR isn’t entirely sanguine – it still thinks Covid will permanently push some people out of the labour force, through early retirement or potentially long Covid, and that there will be some lasting hit to productivity. But things could have been a lot worse.\n",
      "\n",
      "By contrast, Brexit is, by its nature, a long-term issue. Just as it took decades for the UK to see the full benefits of EU membership, we’ll still be discussing the economic impacts of Brexit long after I’ve retired.\n",
      "\n",
      "The direction of those impacts isn’t controversial. The principle that increasing barriers to trade and labour mobility between two large trading partners will reduce trade and migration, and that this will, in general, reduce economic welfare on both sides – but especially for the smaller partner – isn’t really at issue. While there was no shortage of politicians who argued that, somehow, new trade barriers would not make much difference, or that trade with our closest and largest single trading partner could easily be substituted with trade with the rest of the world, no credible economic analysis endorsed such claims.\n",
      "\n",
      "Nor is the OBR’s 4% estimate of the impact on the UK economy that different from that of independent economists – we at UK in a Changing Europe put it at just under 6%.\n",
      "\n",
      "But crucially, both those (and other) estimates predated Brexit. So the news here is that the OBR has taken a hard look at the evidence to date on the actual impact of Brexit. Its conclusion, briefly, is: “so far, so bad”. That is, the UK’s trade performance this year is consistent with its original estimates that UK exports and imports would both fall by 15%.\n",
      "\n",
      "Indeed, in some respects, the data so far looks even worse than that – UK exports have already fallen by approximately this much compared to pre-pandemic levels, while advanced economies as a whole have seen trade grow. And, again in common with external analysts, the OBR sees no evidence that trade deals with third countries, or any of the other putative economic benefits of Brexit, will offset this in any meaningful way.\n",
      "\n",
      "No model includes everything. The OBR’s is no exception. It hasn’t accounted for the damage done to education during the pandemic, especially for poorer kids. Here, the government’s failure to fund a serious catch-up programme could leave permanent scars – both economic and social. And, on the other side, a more liberal migration system towards non-European migrants could, in principle, offset some of the damage of Brexit.\n",
      "\n",
      "But so far, it looks as if, from an economic perspective, Covid is for Christmas, while Brexit is for life.\n"
     ]
    }
   ],
   "source": [
    "#Creating a variable to contain the text file data\n",
    "textfile = open('Brexit_TheGuardian.txt', mode='r')\n",
    "allwords = textfile.read()\n",
    "print(allwords)"
   ]
  },
  {
   "cell_type": "code",
   "execution_count": 11,
   "id": "d48d5e72",
   "metadata": {},
   "outputs": [
    {
     "name": "stdout",
     "output_type": "stream",
     "text": [
      "['we', 're', 'used', 'to', 'hearing', 'apocalyptic', 'descriptions', 'of', 'the', 'impact', 'of', 'the', 'covid', '19', 'pandemic', 'on', 'the', 'uk', 'economy', 'the', 'largest', 'fall', 'in', 'economic', 'output', 'since', '1709', 'was', 'the', 'office', 'for', 'national', 'statistics', 'verdict', 'eight', 'months', 'ago', 'yet', 'the', 'office', 'for', 'budget', 'responsibility', 'in', 'its', 'report', 'on', 'wednesday', 's', 'budget', 'estimates', 'that', 'the', 'long', 'term', 'impact', 'of', 'brexit', 'will', 'be', 'more', 'than', 'twice', 'as', 'great', 'as', 'covid', 'it', 'thinks', 'that', 'brexit', 'will', 'reduce', 'uk', 'productivity', 'and', 'hence', 'gdp', 'per', 'capita', 'by', '4', 'while', 'the', 'impact', 'of', 'covid', 'on', 'gdp', 'will', 'only', 'be', '2', 'with', 'a', 'slightly', 'smaller', 'impact', 'on', 'gdp', 'per', 'capita', 'this', 'shouldn', 't', 'be', 'surprising', 'the', 'fall', 'in', 'output', 'in', '2020', 'was', 'both', 'inevitable', 'and', 'desirable', 'it', 'was', 'not', 'in', 'economic', 'terms', 'that', 'different', 'from', 'an', 'extended', 'holiday', 'just', 'like', 'a', 'holiday', 'we', 'chose', 'to', 'shut', 'down', 'large', 'parts', 'of', 'the', 'economy', 'the', 'difference', 'was', 'that', 'it', 'was', 'by', 'necessity', 'to', 'save', 'lives', 'rather', 'than', 'by', 'choice', 'but', 'the', 'consequences', 'aren', 't', 'that', 'different', 'the', 'economy', 'shrank', 'and', 'by', 'a', 'lot', 'holidays', 'don', 't', 'reduce', 'the', 'productive', 'capacity', 'of', 'the', 'economy', 'if', 'a', 'factory', 'shuts', 'down', 'for', 'a', 'month', 'the', 'machines', 'are', 'still', 'there', 'when', 'it', 'reopens', 'similarly', 'when', 'workers', 'return', 'they', 'still', 'know', 'how', 'to', 'do', 'their', 'jobs', 'the', 'virus', 'does', 'not', 'destroy', 'factories', 'roads', 'buildings', 'or', 'software', 'and', 'while', 'its', 'human', 'toll', 'has', 'been', 'dreadful', 'the', 'impact', 'on', 'the', 'size', 'or', 'composition', 'of', 'the', 'working', 'age', 'population', 'will', 'be', 'relatively', 'small', 'in', 'macroeconomic', 'terms', 'so', 'the', 'worry', 'was', 'not', 'the', 'huge', 'short', 'term', 'fall', 'in', 'gdp', 'it', 'was', 'that', 'temporary', 'closures', 'would', 'do', 'permanent', 'damage', 'to', 'the', 'economy', 'the', 'biggest', 'risk', 'was', 'that', 'as', 'in', 'the', '1980s', 'we', 'allowed', 'mass', 'unemployment', 'to', 'become', 'entrenched', 'or', 'viable', 'businesses', 'to', 'go', 'bust', 'but', 'thanks', 'to', 'the', 'furlough', 'scheme', 'and', 'other', 'business', 'support', 'measures', 'we', 'seem', 'to', 'have', 'avoided', 'that', 'risk', 'in', 'the', 'uk', 'and', 'elsewhere', 'indeed', 'us', 'gdp', 'boosted', 'by', 'joe', 'biden', 's', 'stimulus', 'package', 'has', 'already', 'exceeded', 'its', 'pre', 'crisis', 'level', 'the', 'uk', 'is', 'not', 'that', 'far', 'behind', 'albeit', 'still', 'well', 'below', 'the', 'pre', 'crisis', 'trend', 'indeed', 'the', 'most', 'obvious', 'short', 'term', 'economic', 'problem', 'in', 'most', 'advanced', 'economies', 'are', 'now', 'supply', 'bottlenecks', 'and', 'labour', 'market', 'mismatches', 'as', 'economies', 'reopen', 'leading', 'to', 'rising', 'wages', 'and', 'shortages', 'of', 'some', 'goods', 'but', 'while', 'this', 'will', 'as', 'the', 'obr', 'also', 'says', 'reduce', 'both', 'growth', 'and', 'via', 'inflation', 'real', 'wages', 'it', 'will', 'mostly', 'be', 'temporary', 'the', 'obr', 'isn', 't', 'entirely', 'sanguine', 'it', 'still', 'thinks', 'covid', 'will', 'permanently', 'push', 'some', 'people', 'out', 'of', 'the', 'labour', 'force', 'through', 'early', 'retirement', 'or', 'potentially', 'long', 'covid', 'and', 'that', 'there', 'will', 'be', 'some', 'lasting', 'hit', 'to', 'productivity', 'but', 'things', 'could', 'have', 'been', 'a', 'lot', 'worse', 'by', 'contrast', 'brexit', 'is', 'by', 'its', 'nature', 'a', 'long', 'term', 'issue', 'just', 'as', 'it', 'took', 'decades', 'for', 'the', 'uk', 'to', 'see', 'the', 'full', 'benefits', 'of', 'eu', 'membership', 'we', 'll', 'still', 'be', 'discussing', 'the', 'economic', 'impacts', 'of', 'brexit', 'long', 'after', 'i', 've', 'retired', 'the', 'direction', 'of', 'those', 'impacts', 'isn', 't', 'controversial', 'the', 'principle', 'that', 'increasing', 'barriers', 'to', 'trade', 'and', 'labour', 'mobility', 'between', 'two', 'large', 'trading', 'partners', 'will', 'reduce', 'trade', 'and', 'migration', 'and', 'that', 'this', 'will', 'in', 'general', 'reduce', 'economic', 'welfare', 'on', 'both', 'sides', 'but', 'especially', 'for', 'the', 'smaller', 'partner', 'isn', 't', 'really', 'at', 'issue', 'while', 'there', 'was', 'no', 'shortage', 'of', 'politicians', 'who', 'argued', 'that', 'somehow', 'new', 'trade', 'barriers', 'would', 'not', 'make', 'much', 'difference', 'or', 'that', 'trade', 'with', 'our', 'closest', 'and', 'largest', 'single', 'trading', 'partner', 'could', 'easily', 'be', 'substituted', 'with', 'trade', 'with', 'the', 'rest', 'of', 'the', 'world', 'no', 'credible', 'economic', 'analysis', 'endorsed', 'such', 'claims', 'nor', 'is', 'the', 'obr', 's', '4', 'estimate', 'of', 'the', 'impact', 'on', 'the', 'uk', 'economy', 'that', 'different', 'from', 'that', 'of', 'independent', 'economists', 'we', 'at', 'uk', 'in', 'a', 'changing', 'europe', 'put', 'it', 'at', 'just', 'under', '6', 'but', 'crucially', 'both', 'those', 'and', 'other', 'estimates', 'predated', 'brexit', 'so', 'the', 'news', 'here', 'is', 'that', 'the', 'obr', 'has', 'taken', 'a', 'hard', 'look', 'at', 'the', 'evidence', 'to', 'date', 'on', 'the', 'actual', 'impact', 'of', 'brexit', 'its', 'conclusion', 'briefly', 'is', 'so', 'far', 'so', 'bad', 'that', 'is', 'the', 'uk', 's', 'trade', 'performance', 'this', 'year', 'is', 'consistent', 'with', 'its', 'original', 'estimates', 'that', 'uk', 'exports', 'and', 'imports', 'would', 'both', 'fall', 'by', '15', 'indeed', 'in', 'some', 'respects', 'the', 'data', 'so', 'far', 'looks', 'even', 'worse', 'than', 'that', 'uk', 'exports', 'have', 'already', 'fallen', 'by', 'approximately', 'this', 'much', 'compared', 'to', 'pre', 'pandemic', 'levels', 'while', 'advanced', 'economies', 'as', 'a', 'whole', 'have', 'seen', 'trade', 'grow', 'and', 'again', 'in', 'common', 'with', 'external', 'analysts', 'the', 'obr', 'sees', 'no', 'evidence', 'that', 'trade', 'deals', 'with', 'third', 'countries', 'or', 'any', 'of', 'the', 'other', 'putative', 'economic', 'benefits', 'of', 'brexit', 'will', 'offset', 'this', 'in', 'any', 'meaningful', 'way', 'no', 'model', 'includes', 'everything', 'the', 'obr', 's', 'is', 'no', 'exception', 'it', 'hasn', 't', 'accounted', 'for', 'the', 'damage', 'done', 'to', 'education', 'during', 'the', 'pandemic', 'especially', 'for', 'poorer', 'kids', 'here', 'the', 'government', 's', 'failure', 'to', 'fund', 'a', 'serious', 'catch', 'up', 'programme', 'could', 'leave', 'permanent', 'scars', 'both', 'economic', 'and', 'social', 'and', 'on', 'the', 'other', 'side', 'a', 'more', 'liberal', 'migration', 'system', 'towards', 'non', 'european', 'migrants', 'could', 'in', 'principle', 'offset', 'some', 'of', 'the', 'damage', 'of', 'brexit', 'but', 'so', 'far', 'it', 'looks', 'as', 'if', 'from', 'an', 'economic', 'perspective', 'covid', 'is', 'for', 'christmas', 'while', 'brexit', 'is', 'for', 'life']\n"
     ]
    }
   ],
   "source": [
    "#Extracting the words and convert them to lower case\n",
    "tokenizer = RegexpTokenizer(r'\\w+')\n",
    "tokens = tokenizer.tokenize(allwords.lower())\n",
    "print(tokens)"
   ]
  },
  {
   "cell_type": "code",
   "execution_count": 12,
   "id": "23224b2c",
   "metadata": {},
   "outputs": [
    {
     "data": {
      "text/plain": [
       "'But so far, it looks as if, from an economic perspective, Covid is for Christmas, while Brexit is for life.'"
      ]
     },
     "execution_count": 12,
     "metadata": {},
     "output_type": "execute_result"
    }
   ],
   "source": [
    "#Extracting the data and displaying some sentences and phrases\n",
    "sentences = nltk.sent_tokenize(allwords)\n",
    "sentences[0]\n",
    "sentences[-1]"
   ]
  },
  {
   "cell_type": "code",
   "execution_count": 13,
   "id": "c57ad950",
   "metadata": {},
   "outputs": [
    {
     "name": "stdout",
     "output_type": "stream",
     "text": [
      "['used', 'hearing', 'apocalyptic', 'descriptions', 'impact', 'covid', '19', 'pandemic', 'uk', 'economy', 'largest', 'fall', 'economic', 'output', 'since', '1709', 'office', 'national', 'statistics', 'verdict', 'eight', 'months', 'ago', 'yet', 'office', 'budget', 'responsibility', 'report', 'wednesday', 'budget', 'estimates', 'long', 'term', 'impact', 'brexit', 'twice', 'great', 'covid', 'thinks', 'brexit', 'reduce', 'uk', 'productivity', 'hence', 'gdp', 'per', 'capita', '4', 'impact', 'covid', 'gdp', '2', 'slightly', 'smaller', 'impact', 'gdp', 'per', 'capita', 'surprising', 'fall', 'output', '2020', 'inevitable', 'desirable', 'economic', 'terms', 'different', 'extended', 'holiday', 'like', 'holiday', 'chose', 'shut', 'large', 'parts', 'economy', 'difference', 'necessity', 'save', 'lives', 'rather', 'choice', 'consequences', 'different', 'economy', 'shrank', 'lot', 'holidays', 'reduce', 'productive', 'capacity', 'economy', 'factory', 'shuts', 'month', 'machines', 'still', 'reopens', 'similarly', 'workers', 'return', 'still', 'know', 'jobs', 'virus', 'destroy', 'factories', 'roads', 'buildings', 'software', 'human', 'toll', 'dreadful', 'impact', 'size', 'composition', 'working', 'age', 'population', 'relatively', 'small', 'macroeconomic', 'terms', 'worry', 'huge', 'short', 'term', 'fall', 'gdp', 'temporary', 'closures', 'would', 'permanent', 'damage', 'economy', 'biggest', 'risk', '1980s', 'allowed', 'mass', 'unemployment', 'become', 'entrenched', 'viable', 'businesses', 'go', 'bust', 'thanks', 'furlough', 'scheme', 'business', 'support', 'measures', 'seem', 'avoided', 'risk', 'uk', 'elsewhere', 'indeed', 'us', 'gdp', 'boosted', 'joe', 'biden', 'stimulus', 'package', 'already', 'exceeded', 'pre', 'crisis', 'level', 'uk', 'far', 'behind', 'albeit', 'still', 'well', 'pre', 'crisis', 'trend', 'indeed', 'obvious', 'short', 'term', 'economic', 'problem', 'advanced', 'economies', 'supply', 'bottlenecks', 'labour', 'market', 'mismatches', 'economies', 'reopen', 'leading', 'rising', 'wages', 'shortages', 'goods', 'obr', 'also', 'says', 'reduce', 'growth', 'via', 'inflation', 'real', 'wages', 'mostly', 'temporary', 'obr', 'entirely', 'sanguine', 'still', 'thinks', 'covid', 'permanently', 'push', 'people', 'labour', 'force', 'early', 'retirement', 'potentially', 'long', 'covid', 'lasting', 'hit', 'productivity', 'things', 'could', 'lot', 'worse', 'contrast', 'brexit', 'nature', 'long', 'term', 'issue', 'took', 'decades', 'uk', 'see', 'full', 'benefits', 'eu', 'membership', 'still', 'discussing', 'economic', 'impacts', 'brexit', 'long', 'retired', 'direction', 'impacts', 'controversial', 'principle', 'increasing', 'barriers', 'trade', 'labour', 'mobility', 'two', 'large', 'trading', 'partners', 'reduce', 'trade', 'migration', 'general', 'reduce', 'economic', 'welfare', 'sides', 'especially', 'smaller', 'partner', 'really', 'issue', 'shortage', 'politicians', 'argued', 'somehow', 'new', 'trade', 'barriers', 'would', 'make', 'much', 'difference', 'trade', 'closest', 'largest', 'single', 'trading', 'partner', 'could', 'easily', 'substituted', 'trade', 'rest', 'world', 'credible', 'economic', 'analysis', 'endorsed', 'claims', 'obr', '4', 'estimate', 'impact', 'uk', 'economy', 'different', 'independent', 'economists', 'uk', 'changing', 'europe', 'put', '6', 'crucially', 'estimates', 'predated', 'brexit', 'news', 'obr', 'taken', 'hard', 'look', 'evidence', 'date', 'actual', 'impact', 'brexit', 'conclusion', 'briefly', 'far', 'bad', 'uk', 'trade', 'performance', 'year', 'consistent', 'original', 'estimates', 'uk', 'exports', 'imports', 'would', 'fall', '15', 'indeed', 'respects', 'data', 'far', 'looks', 'even', 'worse', 'uk', 'exports', 'already', 'fallen', 'approximately', 'much', 'compared', 'pre', 'pandemic', 'levels', 'advanced', 'economies', 'whole', 'seen', 'trade', 'grow', 'common', 'external', 'analysts', 'obr', 'sees', 'evidence', 'trade', 'deals', 'third', 'countries', 'putative', 'economic', 'benefits', 'brexit', 'offset', 'meaningful', 'way', 'model', 'includes', 'everything', 'obr', 'exception', 'accounted', 'damage', 'done', 'education', 'pandemic', 'especially', 'poorer', 'kids', 'government', 'failure', 'fund', 'serious', 'catch', 'programme', 'could', 'leave', 'permanent', 'scars', 'economic', 'social', 'side', 'liberal', 'migration', 'system', 'towards', 'non', 'european', 'migrants', 'could', 'principle', 'offset', 'damage', 'brexit', 'far', 'looks', 'economic', 'perspective', 'covid', 'christmas', 'brexit', 'life']\n"
     ]
    }
   ],
   "source": [
    "#Recreating the token list without stopwords\n",
    "tokens = [token for token in tokens if token not in stopwords.words('english')]\n",
    "print(tokens)"
   ]
  },
  {
   "cell_type": "code",
   "execution_count": 14,
   "id": "ff71d1bb",
   "metadata": {},
   "outputs": [
    {
     "data": {
      "text/plain": [
       "FreqDist({'uk': 10, 'economic': 9, 'brexit': 9, 'trade': 8, 'impact': 7, 'covid': 6, 'economy': 6, 'obr': 6, 'reduce': 5, 'gdp': 5, ...})"
      ]
     },
     "execution_count": 14,
     "metadata": {},
     "output_type": "execute_result"
    }
   ],
   "source": [
    "#Displaying the word frequncies\n",
    "freq_dist = nltk.FreqDist(tokens)\n",
    "freq_dist"
   ]
  },
  {
   "cell_type": "code",
   "execution_count": 15,
   "id": "5069d042",
   "metadata": {},
   "outputs": [
    {
     "name": "stdout",
     "output_type": "stream",
     "text": [
      "<FreqDist with 304 samples and 440 outcomes>\n",
      "[('uk', 10), ('economic', 9), ('brexit', 9), ('trade', 8), ('impact', 7), ('covid', 6), ('economy', 6), ('obr', 6), ('reduce', 5), ('gdp', 5), ('still', 5), ('fall', 4), ('long', 4), ('term', 4), ('far', 4), ('could', 4), ('pandemic', 3), ('estimates', 3), ('different', 3), ('would', 3), ('damage', 3), ('indeed', 3), ('pre', 3), ('economies', 3), ('labour', 3)]\n"
     ]
    },
    {
     "data": {
      "image/png": "[encoded data removed]",
      "text/plain": [
       "<Figure size 432x288 with 1 Axes>"
      ]
     },
     "metadata": {
      "needs_background": "light"
     },
     "output_type": "display_data"
    },
    {
     "data": {
      "text/plain": [
       "<AxesSubplot:xlabel='Samples', ylabel='Counts'>"
      ]
     },
     "execution_count": 15,
     "metadata": {},
     "output_type": "execute_result"
    }
   ],
   "source": [
    "#Plotting a graph for the most frequest words\n",
    "print(freq_dist)\n",
    "print(freq_dist.most_common(25))\n",
    "freq_dist.plot(25)"
   ]
  },
  {
   "cell_type": "code",
   "execution_count": 16,
   "id": "f846caeb",
   "metadata": {},
   "outputs": [],
   "source": [
    "#Calling the url from Reuters\n",
    "url2 = \"https://www.reuters.com/world/the-great-reboot/brexit-cold-turkey-uk-tries-kick-25-year-imported-labour-habit-2021-10-05/\""
   ]
  },
  {
   "cell_type": "code",
   "execution_count": 17,
   "id": "23aa0769",
   "metadata": {},
   "outputs": [],
   "source": [
    "#Setting up the data retrieval\n",
    "brexit_reuters = Article(url2, language=\"en\") "
   ]
  },
  {
   "cell_type": "code",
   "execution_count": 18,
   "id": "df29c1f4",
   "metadata": {},
   "outputs": [],
   "source": [
    "#Downloading the article \n",
    "brexit_reuters.download() \n",
    "  \n",
    "#Parsing the article \n",
    "brexit_reuters.parse() \n",
    "  \n",
    "#Performing natural language processing\n",
    "brexit_reuters.nlp()"
   ]
  },
  {
   "cell_type": "code",
   "execution_count": 19,
   "id": "d6761c7f",
   "metadata": {},
   "outputs": [
    {
     "name": "stdout",
     "output_type": "stream",
     "text": [
      "Article's Title:\n",
      "Analysis: Brexit cold turkey - UK tries to kick 25-year imported labour habit\n"
     ]
    }
   ],
   "source": [
    "#Getting the title of the article\n",
    "print(\"Article's Title:\") \n",
    "print(brexit_reuters.title) "
   ]
  },
  {
   "cell_type": "code",
   "execution_count": 20,
   "id": "14a7250b",
   "metadata": {},
   "outputs": [
    {
     "name": "stdout",
     "output_type": "stream",
     "text": [
      "Article's Text:\n",
      "A sign informing customers that fuel has run out is pictured at a Esso fuel station in London, Britain, October 4, 2021. REUTERS/Hannah McKay/File Photo\n",
      "\n",
      "LONDON, Oct 5 (Reuters) - The United Kingdom's 25-year-old model of importing cheap labour has been up-ended by Brexit and COVID-19, sowing the seeds for a 1970s-style winter of discontent complete with worker shortages, spiralling wage demands and price rises.\n",
      "\n",
      "Leaving the European Union, followed by the chaos of the biggest public health crisis in a century, has plunged the world's fifth-largest economy into a sudden attempt to kick its addiction to cheap imported labour.\n",
      "\n",
      "Prime Minister Boris Johnson's Brexit experiment - unique among major economies - has further strained supply chains already creaking globally for everything from pork and poultry to medicines and milk.\n",
      "\n",
      "Wages, and thus prices, will have to rise. read more\n",
      "\n",
      "The longer-term impact on growth, Johnson's political fortunes and the United Kingdom's on-off relationship with the European Union is unclear.\n",
      "\n",
      "\"It's really a big turning point for the UK and an opportunity for us to go in a different direction,\" Johnson, 57, said when asked about the labour shortages.\n",
      "\n",
      "\"What I won't do is go back to the old failed model of low wages, low skills, supported by uncontrolled immigration.\"\n",
      "\n",
      "He said Britons had voted for change in the 2016 Brexit referendum and again in 2019, when a landslide election win made Johnson the most powerful Conservative prime minister since Margaret Thatcher.\n",
      "\n",
      "Stagnant wages, he said, would have to rise - for some, the economic logic behind the Brexit vote. Johnson has bluntly told business leaders in closed meetings to pay workers more.\n",
      "\n",
      "\"Taking back control\" of immigration was a key message of the Brexit campaign, which the Johnson-led \"Leave\" campaign narrowly won. He later promised to protect the country from the \"job-destroying machine\" of the European Union.\n",
      "\n",
      "BREXIT 'ADJUSTMENT'\n",
      "\n",
      "Johnson casts his Brexit gamble as an \"adjustment\" though opponents say he is dressing up a labour shortage as a golden opportunity for workers to increase their wages.\n",
      "\n",
      "But restricting immigration amounts to a generational change in the United Kingdom's economic policy, right after the pandemic triggered a 10% contraction in 2020, the worst in more than 300 years.\n",
      "\n",
      "As the EU expanded eastward after the 1989 fall of the Berlin Wall, Britain and other major European economies welcomed millions of migrants from countries like Poland, which joined the bloc in 2004.\n",
      "\n",
      "No-one really knows how many people came: in mid-2021, the British government said it had received more than 6 million applications from EU nationals for settlement, more than double the number it believed were in the country in 2016.\n",
      "\n",
      "After Brexit, the government stopped giving priority to EU citizens over people from elsewhere.\n",
      "\n",
      "Brexit prompted many eastern European workers - including around 25,000 truckers - to leave the country just as around 40,000 truck licence tests were halted due to the pandemic.\n",
      "\n",
      "Britain is now short of about 100,000 truckers, leading to queues at gas stations and worries about getting food into supermarkets, with a lack of butchers and warehouse workers also causing concern.\n",
      "\n",
      "\"Wages will have to go up, so prices for everything we deliver, everything you buy on the shelves, will have to go up too,\" said Craig Holness, a British trucker with 27 years experience.\n",
      "\n",
      "Wages have already soared: a heavy goods vehicle (HGV) Class 1 driver job was being advertised for 75,000 pounds ($102,500) per annum, the highest the recruiter had ever heard of.\n",
      "\n",
      "WINTER OF DISCONTENT?\n",
      "\n",
      "The Bank of England said last month that CPI inflation was set to rise to 4% late this year, \"owing largely to developments in energy and goods prices\", and that the case for raising interest rates from historic lows appeared to have strengthened.\n",
      "\n",
      "It cited evidence that \"recruitment difficulties had become more widespread and acute\", which the Bank's agents had attributed \"to a combination of factors, including demand recovering more quickly than expected and a reduction in the availability of EU workers\".\n",
      "\n",
      "Johnson's ministers have repeatedly dismissed the idea that Britain is heading for a \"winter of discontent\" like that which helped Thatcher to power in 1979, with spiralling wage demands, inflation and power shortages - or even that Brexit is factor.\n",
      "\n",
      "\"Our country has been running at a comparatively low rate of wage growth for a long time - basically stagnant wages and totally stagnant productivity - and that is because, chronically, we have failed to invest in people, we have failed to invest in equipment and you've seen wages flat,\" Johnson said on Sunday.\n",
      "\n",
      "But he did not explain how wage stagnation and poor productivity would be solved by a mixture of lower immigration and higher wages that fuel inflation which eats into real wages.\n",
      "\n",
      "It was also unclear how higher prices would affect an economy that is consumer-driven and increasingly reliant on supply chains whose tentacles wind across Europe and beyond.\n",
      "\n",
      "For some observers, the United Kingdom has come full-circle: it joined the European club in the 1970s as the sick man of Europe and its exit, many European politicians clearly hope, will lead it back into a cautionary dead-end.\n",
      "\n",
      "Johnson's legacy will depend on proving them wrong.\n",
      "\n",
      "Reporting by Guy Faulconbridge; Editing by Catherine Evans and Andrew Heavens\n",
      "\n",
      "Our Standards: The Thomson Reuters Trust Principles.\n",
      "n\n"
     ]
    }
   ],
   "source": [
    "#Getting the content of the article from Reuters\n",
    "print(\"Article's Text:\") \n",
    "print(brexit_reuters.text) \n",
    "print(\"n\") "
   ]
  },
  {
   "cell_type": "code",
   "execution_count": 21,
   "id": "578824f1",
   "metadata": {},
   "outputs": [
    {
     "name": "stdout",
     "output_type": "stream",
     "text": [
      "Article's Keywords:\n",
      "['habit', 'imported', 'united', 'country', 'workers', 'wage', 'european', 'eu', 'brexit', 'turkey', 'tries', 'kick', 'johnson', 'cold', 'labour', 'wages', 'prices', 'analysis', 'uk']\n"
     ]
    }
   ],
   "source": [
    "#Checking for the keywords in the article\n",
    "print(\"Article's Keywords:\") \n",
    "print(brexit_reuters.keywords)"
   ]
  },
  {
   "cell_type": "code",
   "execution_count": 22,
   "id": "7aadbffe",
   "metadata": {},
   "outputs": [],
   "source": [
    "#Creating a text file to paste the guardian data\n",
    "covid_data2 = open(\"Brexit_Reuters.txt\",\"w\")"
   ]
  },
  {
   "cell_type": "code",
   "execution_count": 23,
   "id": "47ab920a",
   "metadata": {},
   "outputs": [],
   "source": [
    "# Writing the data into the text file\n",
    "covid_data2.writelines(brexit_reuters.text) \n",
    "covid_data2.close() "
   ]
  },
  {
   "cell_type": "code",
   "execution_count": 24,
   "id": "1113ede9",
   "metadata": {},
   "outputs": [
    {
     "name": "stdout",
     "output_type": "stream",
     "text": [
      "A sign informing customers that fuel has run out is pictured at a Esso fuel station in London, Britain, October 4, 2021. REUTERS/Hannah McKay/File Photo\n",
      "\n",
      "LONDON, Oct 5 (Reuters) - The United Kingdom's 25-year-old model of importing cheap labour has been up-ended by Brexit and COVID-19, sowing the seeds for a 1970s-style winter of discontent complete with worker shortages, spiralling wage demands and price rises.\n",
      "\n",
      "Leaving the European Union, followed by the chaos of the biggest public health crisis in a century, has plunged the world's fifth-largest economy into a sudden attempt to kick its addiction to cheap imported labour.\n",
      "\n",
      "Prime Minister Boris Johnson's Brexit experiment - unique among major economies - has further strained supply chains already creaking globally for everything from pork and poultry to medicines and milk.\n",
      "\n",
      "Wages, and thus prices, will have to rise. read more\n",
      "\n",
      "The longer-term impact on growth, Johnson's political fortunes and the United Kingdom's on-off relationship with the European Union is unclear.\n",
      "\n",
      "\"It's really a big turning point for the UK and an opportunity for us to go in a different direction,\" Johnson, 57, said when asked about the labour shortages.\n",
      "\n",
      "\"What I won't do is go back to the old failed model of low wages, low skills, supported by uncontrolled immigration.\"\n",
      "\n",
      "He said Britons had voted for change in the 2016 Brexit referendum and again in 2019, when a landslide election win made Johnson the most powerful Conservative prime minister since Margaret Thatcher.\n",
      "\n",
      "Stagnant wages, he said, would have to rise - for some, the economic logic behind the Brexit vote. Johnson has bluntly told business leaders in closed meetings to pay workers more.\n",
      "\n",
      "\"Taking back control\" of immigration was a key message of the Brexit campaign, which the Johnson-led \"Leave\" campaign narrowly won. He later promised to protect the country from the \"job-destroying machine\" of the European Union.\n",
      "\n",
      "BREXIT 'ADJUSTMENT'\n",
      "\n",
      "Johnson casts his Brexit gamble as an \"adjustment\" though opponents say he is dressing up a labour shortage as a golden opportunity for workers to increase their wages.\n",
      "\n",
      "But restricting immigration amounts to a generational change in the United Kingdom's economic policy, right after the pandemic triggered a 10% contraction in 2020, the worst in more than 300 years.\n",
      "\n",
      "As the EU expanded eastward after the 1989 fall of the Berlin Wall, Britain and other major European economies welcomed millions of migrants from countries like Poland, which joined the bloc in 2004.\n",
      "\n",
      "No-one really knows how many people came: in mid-2021, the British government said it had received more than 6 million applications from EU nationals for settlement, more than double the number it believed were in the country in 2016.\n",
      "\n",
      "After Brexit, the government stopped giving priority to EU citizens over people from elsewhere.\n",
      "\n",
      "Brexit prompted many eastern European workers - including around 25,000 truckers - to leave the country just as around 40,000 truck licence tests were halted due to the pandemic.\n",
      "\n",
      "Britain is now short of about 100,000 truckers, leading to queues at gas stations and worries about getting food into supermarkets, with a lack of butchers and warehouse workers also causing concern.\n",
      "\n",
      "\"Wages will have to go up, so prices for everything we deliver, everything you buy on the shelves, will have to go up too,\" said Craig Holness, a British trucker with 27 years experience.\n",
      "\n",
      "Wages have already soared: a heavy goods vehicle (HGV) Class 1 driver job was being advertised for 75,000 pounds ($102,500) per annum, the highest the recruiter had ever heard of.\n",
      "\n",
      "WINTER OF DISCONTENT?\n",
      "\n",
      "The Bank of England said last month that CPI inflation was set to rise to 4% late this year, \"owing largely to developments in energy and goods prices\", and that the case for raising interest rates from historic lows appeared to have strengthened.\n",
      "\n",
      "It cited evidence that \"recruitment difficulties had become more widespread and acute\", which the Bank's agents had attributed \"to a combination of factors, including demand recovering more quickly than expected and a reduction in the availability of EU workers\".\n",
      "\n",
      "Johnson's ministers have repeatedly dismissed the idea that Britain is heading for a \"winter of discontent\" like that which helped Thatcher to power in 1979, with spiralling wage demands, inflation and power shortages - or even that Brexit is factor.\n",
      "\n",
      "\"Our country has been running at a comparatively low rate of wage growth for a long time - basically stagnant wages and totally stagnant productivity - and that is because, chronically, we have failed to invest in people, we have failed to invest in equipment and you've seen wages flat,\" Johnson said on Sunday.\n",
      "\n",
      "But he did not explain how wage stagnation and poor productivity would be solved by a mixture of lower immigration and higher wages that fuel inflation which eats into real wages.\n",
      "\n",
      "It was also unclear how higher prices would affect an economy that is consumer-driven and increasingly reliant on supply chains whose tentacles wind across Europe and beyond.\n",
      "\n",
      "For some observers, the United Kingdom has come full-circle: it joined the European club in the 1970s as the sick man of Europe and its exit, many European politicians clearly hope, will lead it back into a cautionary dead-end.\n",
      "\n",
      "Johnson's legacy will depend on proving them wrong.\n",
      "\n",
      "Reporting by Guy Faulconbridge; Editing by Catherine Evans and Andrew Heavens\n",
      "\n",
      "Our Standards: The Thomson Reuters Trust Principles.\n"
     ]
    }
   ],
   "source": [
    "#Creating a variable to contain the text file data\n",
    "textfile2 = open('Brexit_Reuters.txt', mode='r')\n",
    "allwords2 = textfile2.read()\n",
    "print(allwords2)"
   ]
  },
  {
   "cell_type": "code",
   "execution_count": 25,
   "id": "ea46bcef",
   "metadata": {},
   "outputs": [
    {
     "name": "stdout",
     "output_type": "stream",
     "text": [
      "['a', 'sign', 'informing', 'customers', 'that', 'fuel', 'has', 'run', 'out', 'is', 'pictured', 'at', 'a', 'esso', 'fuel', 'station', 'in', 'london', 'britain', 'october', '4', '2021', 'reuters', 'hannah', 'mckay', 'file', 'photo', 'london', 'oct', '5', 'reuters', 'the', 'united', 'kingdom', 's', '25', 'year', 'old', 'model', 'of', 'importing', 'cheap', 'labour', 'has', 'been', 'up', 'ended', 'by', 'brexit', 'and', 'covid', '19', 'sowing', 'the', 'seeds', 'for', 'a', '1970s', 'style', 'winter', 'of', 'discontent', 'complete', 'with', 'worker', 'shortages', 'spiralling', 'wage', 'demands', 'and', 'price', 'rises', 'leaving', 'the', 'european', 'union', 'followed', 'by', 'the', 'chaos', 'of', 'the', 'biggest', 'public', 'health', 'crisis', 'in', 'a', 'century', 'has', 'plunged', 'the', 'world', 's', 'fifth', 'largest', 'economy', 'into', 'a', 'sudden', 'attempt', 'to', 'kick', 'its', 'addiction', 'to', 'cheap', 'imported', 'labour', 'prime', 'minister', 'boris', 'johnson', 's', 'brexit', 'experiment', 'unique', 'among', 'major', 'economies', 'has', 'further', 'strained', 'supply', 'chains', 'already', 'creaking', 'globally', 'for', 'everything', 'from', 'pork', 'and', 'poultry', 'to', 'medicines', 'and', 'milk', 'wages', 'and', 'thus', 'prices', 'will', 'have', 'to', 'rise', 'read', 'more', 'the', 'longer', 'term', 'impact', 'on', 'growth', 'johnson', 's', 'political', 'fortunes', 'and', 'the', 'united', 'kingdom', 's', 'on', 'off', 'relationship', 'with', 'the', 'european', 'union', 'is', 'unclear', 'it', 's', 'really', 'a', 'big', 'turning', 'point', 'for', 'the', 'uk', 'and', 'an', 'opportunity', 'for', 'us', 'to', 'go', 'in', 'a', 'different', 'direction', 'johnson', '57', 'said', 'when', 'asked', 'about', 'the', 'labour', 'shortages', 'what', 'i', 'won', 't', 'do', 'is', 'go', 'back', 'to', 'the', 'old', 'failed', 'model', 'of', 'low', 'wages', 'low', 'skills', 'supported', 'by', 'uncontrolled', 'immigration', 'he', 'said', 'britons', 'had', 'voted', 'for', 'change', 'in', 'the', '2016', 'brexit', 'referendum', 'and', 'again', 'in', '2019', 'when', 'a', 'landslide', 'election', 'win', 'made', 'johnson', 'the', 'most', 'powerful', 'conservative', 'prime', 'minister', 'since', 'margaret', 'thatcher', 'stagnant', 'wages', 'he', 'said', 'would', 'have', 'to', 'rise', 'for', 'some', 'the', 'economic', 'logic', 'behind', 'the', 'brexit', 'vote', 'johnson', 'has', 'bluntly', 'told', 'business', 'leaders', 'in', 'closed', 'meetings', 'to', 'pay', 'workers', 'more', 'taking', 'back', 'control', 'of', 'immigration', 'was', 'a', 'key', 'message', 'of', 'the', 'brexit', 'campaign', 'which', 'the', 'johnson', 'led', 'leave', 'campaign', 'narrowly', 'won', 'he', 'later', 'promised', 'to', 'protect', 'the', 'country', 'from', 'the', 'job', 'destroying', 'machine', 'of', 'the', 'european', 'union', 'brexit', 'adjustment', 'johnson', 'casts', 'his', 'brexit', 'gamble', 'as', 'an', 'adjustment', 'though', 'opponents', 'say', 'he', 'is', 'dressing', 'up', 'a', 'labour', 'shortage', 'as', 'a', 'golden', 'opportunity', 'for', 'workers', 'to', 'increase', 'their', 'wages', 'but', 'restricting', 'immigration', 'amounts', 'to', 'a', 'generational', 'change', 'in', 'the', 'united', 'kingdom', 's', 'economic', 'policy', 'right', 'after', 'the', 'pandemic', 'triggered', 'a', '10', 'contraction', 'in', '2020', 'the', 'worst', 'in', 'more', 'than', '300', 'years', 'as', 'the', 'eu', 'expanded', 'eastward', 'after', 'the', '1989', 'fall', 'of', 'the', 'berlin', 'wall', 'britain', 'and', 'other', 'major', 'european', 'economies', 'welcomed', 'millions', 'of', 'migrants', 'from', 'countries', 'like', 'poland', 'which', 'joined', 'the', 'bloc', 'in', '2004', 'no', 'one', 'really', 'knows', 'how', 'many', 'people', 'came', 'in', 'mid', '2021', 'the', 'british', 'government', 'said', 'it', 'had', 'received', 'more', 'than', '6', 'million', 'applications', 'from', 'eu', 'nationals', 'for', 'settlement', 'more', 'than', 'double', 'the', 'number', 'it', 'believed', 'were', 'in', 'the', 'country', 'in', '2016', 'after', 'brexit', 'the', 'government', 'stopped', 'giving', 'priority', 'to', 'eu', 'citizens', 'over', 'people', 'from', 'elsewhere', 'brexit', 'prompted', 'many', 'eastern', 'european', 'workers', 'including', 'around', '25', '000', 'truckers', 'to', 'leave', 'the', 'country', 'just', 'as', 'around', '40', '000', 'truck', 'licence', 'tests', 'were', 'halted', 'due', 'to', 'the', 'pandemic', 'britain', 'is', 'now', 'short', 'of', 'about', '100', '000', 'truckers', 'leading', 'to', 'queues', 'at', 'gas', 'stations', 'and', 'worries', 'about', 'getting', 'food', 'into', 'supermarkets', 'with', 'a', 'lack', 'of', 'butchers', 'and', 'warehouse', 'workers', 'also', 'causing', 'concern', 'wages', 'will', 'have', 'to', 'go', 'up', 'so', 'prices', 'for', 'everything', 'we', 'deliver', 'everything', 'you', 'buy', 'on', 'the', 'shelves', 'will', 'have', 'to', 'go', 'up', 'too', 'said', 'craig', 'holness', 'a', 'british', 'trucker', 'with', '27', 'years', 'experience', 'wages', 'have', 'already', 'soared', 'a', 'heavy', 'goods', 'vehicle', 'hgv', 'class', '1', 'driver', 'job', 'was', 'being', 'advertised', 'for', '75', '000', 'pounds', '102', '500', 'per', 'annum', 'the', 'highest', 'the', 'recruiter', 'had', 'ever', 'heard', 'of', 'winter', 'of', 'discontent', 'the', 'bank', 'of', 'england', 'said', 'last', 'month', 'that', 'cpi', 'inflation', 'was', 'set', 'to', 'rise', 'to', '4', 'late', 'this', 'year', 'owing', 'largely', 'to', 'developments', 'in', 'energy', 'and', 'goods', 'prices', 'and', 'that', 'the', 'case', 'for', 'raising', 'interest', 'rates', 'from', 'historic', 'lows', 'appeared', 'to', 'have', 'strengthened', 'it', 'cited', 'evidence', 'that', 'recruitment', 'difficulties', 'had', 'become', 'more', 'widespread', 'and', 'acute', 'which', 'the', 'bank', 's', 'agents', 'had', 'attributed', 'to', 'a', 'combination', 'of', 'factors', 'including', 'demand', 'recovering', 'more', 'quickly', 'than', 'expected', 'and', 'a', 'reduction', 'in', 'the', 'availability', 'of', 'eu', 'workers', 'johnson', 's', 'ministers', 'have', 'repeatedly', 'dismissed', 'the', 'idea', 'that', 'britain', 'is', 'heading', 'for', 'a', 'winter', 'of', 'discontent', 'like', 'that', 'which', 'helped', 'thatcher', 'to', 'power', 'in', '1979', 'with', 'spiralling', 'wage', 'demands', 'inflation', 'and', 'power', 'shortages', 'or', 'even', 'that', 'brexit', 'is', 'factor', 'our', 'country', 'has', 'been', 'running', 'at', 'a', 'comparatively', 'low', 'rate', 'of', 'wage', 'growth', 'for', 'a', 'long', 'time', 'basically', 'stagnant', 'wages', 'and', 'totally', 'stagnant', 'productivity', 'and', 'that', 'is', 'because', 'chronically', 'we', 'have', 'failed', 'to', 'invest', 'in', 'people', 'we', 'have', 'failed', 'to', 'invest', 'in', 'equipment', 'and', 'you', 've', 'seen', 'wages', 'flat', 'johnson', 'said', 'on', 'sunday', 'but', 'he', 'did', 'not', 'explain', 'how', 'wage', 'stagnation', 'and', 'poor', 'productivity', 'would', 'be', 'solved', 'by', 'a', 'mixture', 'of', 'lower', 'immigration', 'and', 'higher', 'wages', 'that', 'fuel', 'inflation', 'which', 'eats', 'into', 'real', 'wages', 'it', 'was', 'also', 'unclear', 'how', 'higher', 'prices', 'would', 'affect', 'an', 'economy', 'that', 'is', 'consumer', 'driven', 'and', 'increasingly', 'reliant', 'on', 'supply', 'chains', 'whose', 'tentacles', 'wind', 'across', 'europe', 'and', 'beyond', 'for', 'some', 'observers', 'the', 'united', 'kingdom', 'has', 'come', 'full', 'circle', 'it', 'joined', 'the', 'european', 'club', 'in', 'the', '1970s', 'as', 'the', 'sick', 'man', 'of', 'europe', 'and', 'its', 'exit', 'many', 'european', 'politicians', 'clearly', 'hope', 'will', 'lead', 'it', 'back', 'into', 'a', 'cautionary', 'dead', 'end', 'johnson', 's', 'legacy', 'will', 'depend', 'on', 'proving', 'them', 'wrong', 'reporting', 'by', 'guy', 'faulconbridge', 'editing', 'by', 'catherine', 'evans', 'and', 'andrew', 'heavens', 'our', 'standards', 'the', 'thomson', 'reuters', 'trust', 'principles']\n"
     ]
    }
   ],
   "source": [
    "#Extracting the words and convert them to lower case\n",
    "tokenizer2 = RegexpTokenizer(r'\\w+')\n",
    "tokens2 = tokenizer2.tokenize(allwords2.lower())\n",
    "print(tokens2)"
   ]
  },
  {
   "cell_type": "code",
   "execution_count": 26,
   "id": "2b24c684",
   "metadata": {},
   "outputs": [
    {
     "data": {
      "text/plain": [
       "'Reporting by Guy Faulconbridge; Editing by Catherine Evans and Andrew Heavens\\n\\nOur Standards: The Thomson Reuters Trust Principles.'"
      ]
     },
     "execution_count": 26,
     "metadata": {},
     "output_type": "execute_result"
    }
   ],
   "source": [
    "#Extracting the data and displaying some sentences and phrases\n",
    "sentences2 = nltk.sent_tokenize(allwords2)\n",
    "sentences2[0]\n",
    "sentences2[-1]"
   ]
  },
  {
   "cell_type": "code",
   "execution_count": 27,
   "id": "83142505",
   "metadata": {},
   "outputs": [
    {
     "name": "stdout",
     "output_type": "stream",
     "text": [
      "['sign', 'informing', 'customers', 'fuel', 'run', 'pictured', 'esso', 'fuel', 'station', 'london', 'britain', 'october', '4', '2021', 'reuters', 'hannah', 'mckay', 'file', 'photo', 'london', 'oct', '5', 'reuters', 'united', 'kingdom', '25', 'year', 'old', 'model', 'importing', 'cheap', 'labour', 'ended', 'brexit', 'covid', '19', 'sowing', 'seeds', '1970s', 'style', 'winter', 'discontent', 'complete', 'worker', 'shortages', 'spiralling', 'wage', 'demands', 'price', 'rises', 'leaving', 'european', 'union', 'followed', 'chaos', 'biggest', 'public', 'health', 'crisis', 'century', 'plunged', 'world', 'fifth', 'largest', 'economy', 'sudden', 'attempt', 'kick', 'addiction', 'cheap', 'imported', 'labour', 'prime', 'minister', 'boris', 'johnson', 'brexit', 'experiment', 'unique', 'among', 'major', 'economies', 'strained', 'supply', 'chains', 'already', 'creaking', 'globally', 'everything', 'pork', 'poultry', 'medicines', 'milk', 'wages', 'thus', 'prices', 'rise', 'read', 'longer', 'term', 'impact', 'growth', 'johnson', 'political', 'fortunes', 'united', 'kingdom', 'relationship', 'european', 'union', 'unclear', 'really', 'big', 'turning', 'point', 'uk', 'opportunity', 'us', 'go', 'different', 'direction', 'johnson', '57', 'said', 'asked', 'labour', 'shortages', 'go', 'back', 'old', 'failed', 'model', 'low', 'wages', 'low', 'skills', 'supported', 'uncontrolled', 'immigration', 'said', 'britons', 'voted', 'change', '2016', 'brexit', 'referendum', '2019', 'landslide', 'election', 'win', 'made', 'johnson', 'powerful', 'conservative', 'prime', 'minister', 'since', 'margaret', 'thatcher', 'stagnant', 'wages', 'said', 'would', 'rise', 'economic', 'logic', 'behind', 'brexit', 'vote', 'johnson', 'bluntly', 'told', 'business', 'leaders', 'closed', 'meetings', 'pay', 'workers', 'taking', 'back', 'control', 'immigration', 'key', 'message', 'brexit', 'campaign', 'johnson', 'led', 'leave', 'campaign', 'narrowly', 'later', 'promised', 'protect', 'country', 'job', 'destroying', 'machine', 'european', 'union', 'brexit', 'adjustment', 'johnson', 'casts', 'brexit', 'gamble', 'adjustment', 'though', 'opponents', 'say', 'dressing', 'labour', 'shortage', 'golden', 'opportunity', 'workers', 'increase', 'wages', 'restricting', 'immigration', 'amounts', 'generational', 'change', 'united', 'kingdom', 'economic', 'policy', 'right', 'pandemic', 'triggered', '10', 'contraction', '2020', 'worst', '300', 'years', 'eu', 'expanded', 'eastward', '1989', 'fall', 'berlin', 'wall', 'britain', 'major', 'european', 'economies', 'welcomed', 'millions', 'migrants', 'countries', 'like', 'poland', 'joined', 'bloc', '2004', 'one', 'really', 'knows', 'many', 'people', 'came', 'mid', '2021', 'british', 'government', 'said', 'received', '6', 'million', 'applications', 'eu', 'nationals', 'settlement', 'double', 'number', 'believed', 'country', '2016', 'brexit', 'government', 'stopped', 'giving', 'priority', 'eu', 'citizens', 'people', 'elsewhere', 'brexit', 'prompted', 'many', 'eastern', 'european', 'workers', 'including', 'around', '25', '000', 'truckers', 'leave', 'country', 'around', '40', '000', 'truck', 'licence', 'tests', 'halted', 'due', 'pandemic', 'britain', 'short', '100', '000', 'truckers', 'leading', 'queues', 'gas', 'stations', 'worries', 'getting', 'food', 'supermarkets', 'lack', 'butchers', 'warehouse', 'workers', 'also', 'causing', 'concern', 'wages', 'go', 'prices', 'everything', 'deliver', 'everything', 'buy', 'shelves', 'go', 'said', 'craig', 'holness', 'british', 'trucker', '27', 'years', 'experience', 'wages', 'already', 'soared', 'heavy', 'goods', 'vehicle', 'hgv', 'class', '1', 'driver', 'job', 'advertised', '75', '000', 'pounds', '102', '500', 'per', 'annum', 'highest', 'recruiter', 'ever', 'heard', 'winter', 'discontent', 'bank', 'england', 'said', 'last', 'month', 'cpi', 'inflation', 'set', 'rise', '4', 'late', 'year', 'owing', 'largely', 'developments', 'energy', 'goods', 'prices', 'case', 'raising', 'interest', 'rates', 'historic', 'lows', 'appeared', 'strengthened', 'cited', 'evidence', 'recruitment', 'difficulties', 'become', 'widespread', 'acute', 'bank', 'agents', 'attributed', 'combination', 'factors', 'including', 'demand', 'recovering', 'quickly', 'expected', 'reduction', 'availability', 'eu', 'workers', 'johnson', 'ministers', 'repeatedly', 'dismissed', 'idea', 'britain', 'heading', 'winter', 'discontent', 'like', 'helped', 'thatcher', 'power', '1979', 'spiralling', 'wage', 'demands', 'inflation', 'power', 'shortages', 'even', 'brexit', 'factor', 'country', 'running', 'comparatively', 'low', 'rate', 'wage', 'growth', 'long', 'time', 'basically', 'stagnant', 'wages', 'totally', 'stagnant', 'productivity', 'chronically', 'failed', 'invest', 'people', 'failed', 'invest', 'equipment', 'seen', 'wages', 'flat', 'johnson', 'said', 'sunday', 'explain', 'wage', 'stagnation', 'poor', 'productivity', 'would', 'solved', 'mixture', 'lower', 'immigration', 'higher', 'wages', 'fuel', 'inflation', 'eats', 'real', 'wages', 'also', 'unclear', 'higher', 'prices', 'would', 'affect', 'economy', 'consumer', 'driven', 'increasingly', 'reliant', 'supply', 'chains', 'whose', 'tentacles', 'wind', 'across', 'europe', 'beyond', 'observers', 'united', 'kingdom', 'come', 'full', 'circle', 'joined', 'european', 'club', '1970s', 'sick', 'man', 'europe', 'exit', 'many', 'european', 'politicians', 'clearly', 'hope', 'lead', 'back', 'cautionary', 'dead', 'end', 'johnson', 'legacy', 'depend', 'proving', 'wrong', 'reporting', 'guy', 'faulconbridge', 'editing', 'catherine', 'evans', 'andrew', 'heavens', 'standards', 'thomson', 'reuters', 'trust', 'principles']\n"
     ]
    }
   ],
   "source": [
    "#Recreating the token list without stopwords\n",
    "tokens2 = [token for token in tokens2 if token not in stopwords.words('english')]\n",
    "print(tokens2)"
   ]
  },
  {
   "cell_type": "code",
   "execution_count": 28,
   "id": "ba719a94",
   "metadata": {},
   "outputs": [
    {
     "data": {
      "text/plain": [
       "FreqDist({'brexit': 10, 'johnson': 10, 'wages': 10, 'european': 7, 'said': 7, 'workers': 5, 'britain': 4, 'united': 4, 'kingdom': 4, 'labour': 4, ...})"
      ]
     },
     "execution_count": 28,
     "metadata": {},
     "output_type": "execute_result"
    }
   ],
   "source": [
    "#Displaying the word frequncies\n",
    "freq_dist2 = nltk.FreqDist(tokens2)\n",
    "freq_dist2"
   ]
  },
  {
   "cell_type": "code",
   "execution_count": 29,
   "id": "8c143b8f",
   "metadata": {},
   "outputs": [
    {
     "name": "stdout",
     "output_type": "stream",
     "text": [
      "<FreqDist with 392 samples and 548 outcomes>\n",
      "[('brexit', 10), ('johnson', 10), ('wages', 10), ('european', 7), ('said', 7), ('workers', 5), ('britain', 4), ('united', 4), ('kingdom', 4), ('labour', 4), ('wage', 4), ('prices', 4), ('go', 4), ('immigration', 4), ('country', 4), ('eu', 4), ('000', 4), ('fuel', 3), ('reuters', 3), ('winter', 3), ('discontent', 3), ('shortages', 3), ('union', 3), ('everything', 3), ('rise', 3)]\n"
     ]
    },
    {
     "data": {
      "image/png": "[encoded data removed]",
      "text/plain": [
       "<Figure size 432x288 with 1 Axes>"
      ]
     },
     "metadata": {
      "needs_background": "light"
     },
     "output_type": "display_data"
    },
    {
     "data": {
      "text/plain": [
       "<AxesSubplot:xlabel='Samples', ylabel='Counts'>"
      ]
     },
     "execution_count": 29,
     "metadata": {},
     "output_type": "execute_result"
    }
   ],
   "source": [
    "#Plotting a graph for the most frequest words\n",
    "print(freq_dist2)\n",
    "print(freq_dist2.most_common(25))\n",
    "freq_dist2.plot(25)"
   ]
  },
  {
   "cell_type": "code",
   "execution_count": 30,
   "id": "674ffadc",
   "metadata": {},
   "outputs": [
    {
     "data": {
      "image/png": "[encoded data removed]",
      "text/plain": [
       "<Figure size 432x288 with 1 Axes>"
      ]
     },
     "metadata": {
      "needs_background": "light"
     },
     "output_type": "display_data"
    },
    {
     "data": {
      "image/png": "[encoded data removed]",
      "text/plain": [
       "<Figure size 432x288 with 1 Axes>"
      ]
     },
     "metadata": {
      "needs_background": "light"
     },
     "output_type": "display_data"
    },
    {
     "data": {
      "text/plain": [
       "<AxesSubplot:title={'center':'Reuters Brexit article words count'}, xlabel='Samples', ylabel='Counts'>"
      ]
     },
     "execution_count": 30,
     "metadata": {},
     "output_type": "execute_result"
    }
   ],
   "source": [
    "#Plotting the word count graphs for The Guardian and Reuters together to compare\n",
    "\n",
    "from matplotlib import pyplot as plt\n",
    "%matplotlib inline\n",
    "\n",
    "plt.title(\"The Guardian Brexit article words count\")\n",
    "freq_dist.plot(25)\n",
    "\n",
    "plt.title(\"Reuters Brexit article words count\")\n",
    "freq_dist2.plot(25)"
   ]
  },
  {
   "cell_type": "code",
   "execution_count": 34,
   "id": "897fd1f1",
   "metadata": {},
   "outputs": [
    {
     "data": {
      "text/html": [
       "<div>\n",
       "<style scoped>\n",
       "    .dataframe tbody tr th:only-of-type {\n",
       "        vertical-align: middle;\n",
       "    }\n",
       "\n",
       "    .dataframe tbody tr th {\n",
       "        vertical-align: top;\n",
       "    }\n",
       "\n",
       "    .dataframe thead th {\n",
       "        text-align: right;\n",
       "    }\n",
       "</style>\n",
       "<table border=\"1\" class=\"dataframe\">\n",
       "  <thead>\n",
       "    <tr style=\"text-align: right;\">\n",
       "      <th></th>\n",
       "      <th>Words</th>\n",
       "      <th>word_count</th>\n",
       "    </tr>\n",
       "  </thead>\n",
       "  <tbody>\n",
       "    <tr>\n",
       "      <th>8</th>\n",
       "      <td>uk</td>\n",
       "      <td>10</td>\n",
       "    </tr>\n",
       "    <tr>\n",
       "      <th>31</th>\n",
       "      <td>brexit</td>\n",
       "      <td>9</td>\n",
       "    </tr>\n",
       "    <tr>\n",
       "      <th>12</th>\n",
       "      <td>economic</td>\n",
       "      <td>9</td>\n",
       "    </tr>\n",
       "    <tr>\n",
       "      <th>199</th>\n",
       "      <td>trade</td>\n",
       "      <td>8</td>\n",
       "    </tr>\n",
       "    <tr>\n",
       "      <th>4</th>\n",
       "      <td>impact</td>\n",
       "      <td>7</td>\n",
       "    </tr>\n",
       "    <tr>\n",
       "      <th>...</th>\n",
       "      <td>...</td>\n",
       "      <td>...</td>\n",
       "    </tr>\n",
       "    <tr>\n",
       "      <th>128</th>\n",
       "      <td>us</td>\n",
       "      <td>1</td>\n",
       "    </tr>\n",
       "    <tr>\n",
       "      <th>129</th>\n",
       "      <td>boosted</td>\n",
       "      <td>1</td>\n",
       "    </tr>\n",
       "    <tr>\n",
       "      <th>130</th>\n",
       "      <td>joe</td>\n",
       "      <td>1</td>\n",
       "    </tr>\n",
       "    <tr>\n",
       "      <th>131</th>\n",
       "      <td>biden</td>\n",
       "      <td>1</td>\n",
       "    </tr>\n",
       "    <tr>\n",
       "      <th>303</th>\n",
       "      <td>life</td>\n",
       "      <td>1</td>\n",
       "    </tr>\n",
       "  </tbody>\n",
       "</table>\n",
       "<p>304 rows × 2 columns</p>\n",
       "</div>"
      ],
      "text/plain": [
       "        Words  word_count\n",
       "8          uk          10\n",
       "31     brexit           9\n",
       "12   economic           9\n",
       "199     trade           8\n",
       "4      impact           7\n",
       "..        ...         ...\n",
       "128        us           1\n",
       "129   boosted           1\n",
       "130       joe           1\n",
       "131     biden           1\n",
       "303      life           1\n",
       "\n",
       "[304 rows x 2 columns]"
      ]
     },
     "execution_count": 34,
     "metadata": {},
     "output_type": "execute_result"
    }
   ],
   "source": [
    "#Import pandas library\n",
    "import pandas as pd\n",
    "\n",
    "#Creating a dataframe to store words and word counts of first article\n",
    "article1=pd.DataFrame(freq_dist.keys())\n",
    "article1.rename(columns={0: 'Words'}, inplace=True)\n",
    "article1['word_count']=pd.DataFrame(freq_dist.values())\n",
    "article1.sort_values('word_count',axis=0,ascending=False)"
   ]
  },
  {
   "cell_type": "code",
   "execution_count": 35,
   "id": "2c6804ed",
   "metadata": {},
   "outputs": [
    {
     "data": {
      "text/html": [
       "<div>\n",
       "<style scoped>\n",
       "    .dataframe tbody tr th:only-of-type {\n",
       "        vertical-align: middle;\n",
       "    }\n",
       "\n",
       "    .dataframe tbody tr th {\n",
       "        vertical-align: top;\n",
       "    }\n",
       "\n",
       "    .dataframe thead th {\n",
       "        text-align: right;\n",
       "    }\n",
       "</style>\n",
       "<table border=\"1\" class=\"dataframe\">\n",
       "  <thead>\n",
       "    <tr style=\"text-align: right;\">\n",
       "      <th></th>\n",
       "      <th>Words</th>\n",
       "      <th>word_count</th>\n",
       "    </tr>\n",
       "  </thead>\n",
       "  <tbody>\n",
       "    <tr>\n",
       "      <th>30</th>\n",
       "      <td>brexit</td>\n",
       "      <td>10</td>\n",
       "    </tr>\n",
       "    <tr>\n",
       "      <th>70</th>\n",
       "      <td>johnson</td>\n",
       "      <td>10</td>\n",
       "    </tr>\n",
       "    <tr>\n",
       "      <th>87</th>\n",
       "      <td>wages</td>\n",
       "      <td>10</td>\n",
       "    </tr>\n",
       "    <tr>\n",
       "      <th>48</th>\n",
       "      <td>european</td>\n",
       "      <td>7</td>\n",
       "    </tr>\n",
       "    <tr>\n",
       "      <th>111</th>\n",
       "      <td>said</td>\n",
       "      <td>7</td>\n",
       "    </tr>\n",
       "    <tr>\n",
       "      <th>...</th>\n",
       "      <td>...</td>\n",
       "      <td>...</td>\n",
       "    </tr>\n",
       "    <tr>\n",
       "      <th>163</th>\n",
       "      <td>machine</td>\n",
       "      <td>1</td>\n",
       "    </tr>\n",
       "    <tr>\n",
       "      <th>162</th>\n",
       "      <td>destroying</td>\n",
       "      <td>1</td>\n",
       "    </tr>\n",
       "    <tr>\n",
       "      <th>159</th>\n",
       "      <td>protect</td>\n",
       "      <td>1</td>\n",
       "    </tr>\n",
       "    <tr>\n",
       "      <th>158</th>\n",
       "      <td>promised</td>\n",
       "      <td>1</td>\n",
       "    </tr>\n",
       "    <tr>\n",
       "      <th>391</th>\n",
       "      <td>principles</td>\n",
       "      <td>1</td>\n",
       "    </tr>\n",
       "  </tbody>\n",
       "</table>\n",
       "<p>392 rows × 2 columns</p>\n",
       "</div>"
      ],
      "text/plain": [
       "          Words  word_count\n",
       "30       brexit          10\n",
       "70      johnson          10\n",
       "87        wages          10\n",
       "48     european           7\n",
       "111        said           7\n",
       "..          ...         ...\n",
       "163     machine           1\n",
       "162  destroying           1\n",
       "159     protect           1\n",
       "158    promised           1\n",
       "391  principles           1\n",
       "\n",
       "[392 rows x 2 columns]"
      ]
     },
     "execution_count": 35,
     "metadata": {},
     "output_type": "execute_result"
    }
   ],
   "source": [
    "#Creating a dataframe to store words and word counts of second article\n",
    "article2=pd.DataFrame(freq_dist2.keys())\n",
    "article2.rename(columns={0: 'Words'}, inplace=True)\n",
    "article2['word_count']=pd.DataFrame(freq_dist2.values())\n",
    "article2.sort_values('word_count',axis=0,ascending=False)"
   ]
  }
 ],
 "metadata": {
  "kernelspec": {
   "display_name": "Python 3",
   "language": "python",
   "name": "python3"
  },
  "language_info": {
   "codemirror_mode": {
    "name": "ipython",
    "version": 3
   },
   "file_extension": ".py",
   "mimetype": "text/x-python",
   "name": "python",
   "nbconvert_exporter": "python",
   "pygments_lexer": "ipython3",
   "version": "3.8.8"
  }
 },
 "nbformat": 4,
 "nbformat_minor": 5
}
